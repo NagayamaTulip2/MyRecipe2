{
 "cells": [
  {
   "cell_type": "markdown",
   "id": "0ac97ce5",
   "metadata": {},
   "source": [
    "おすすめキーワード①"
   ]
  },
  {
   "cell_type": "code",
   "execution_count": null,
   "id": "a144e2ab",
   "metadata": {},
   "outputs": [],
   "source": [
    "%run photo.py"
   ]
  },
  {
   "cell_type": "markdown",
   "id": "262ea81a",
   "metadata": {},
   "source": [
    "おすすめキーワード②"
   ]
  },
  {
   "cell_type": "code",
   "execution_count": null,
   "id": "652a5cd1",
   "metadata": {},
   "outputs": [],
   "source": [
    "%run photo2.py"
   ]
  },
  {
   "cell_type": "raw",
   "id": "6435c07b",
   "metadata": {},
   "source": []
  },
  {
   "cell_type": "markdown",
   "id": "8089adcb",
   "metadata": {},
   "source": [
    "おもしろ作品タグ"
   ]
  },
  {
   "cell_type": "code",
   "execution_count": null,
   "id": "78efacef",
   "metadata": {},
   "outputs": [],
   "source": [
    "%run tag2.py"
   ]
  },
  {
   "cell_type": "raw",
   "id": "4edf5b70",
   "metadata": {},
   "source": []
  },
  {
   "cell_type": "markdown",
   "id": "57ae7d0c",
   "metadata": {},
   "source": [
    "ドット線多角形"
   ]
  },
  {
   "cell_type": "code",
   "execution_count": null,
   "id": "63b35826",
   "metadata": {},
   "outputs": [],
   "source": [
    "%run dot_rgb.py"
   ]
  },
  {
   "cell_type": "raw",
   "id": "cb375c5c",
   "metadata": {},
   "source": []
  },
  {
   "cell_type": "markdown",
   "id": "eec9b2d8",
   "metadata": {},
   "source": [
    "楕円バージョン"
   ]
  },
  {
   "cell_type": "code",
   "execution_count": null,
   "id": "c3521139",
   "metadata": {},
   "outputs": [],
   "source": [
    "%run ratio_circle.py"
   ]
  },
  {
   "cell_type": "code",
   "execution_count": null,
   "id": "d83b4d31",
   "metadata": {},
   "outputs": [],
   "source": [
    "%run curve_circle.py"
   ]
  },
  {
   "cell_type": "raw",
   "id": "bc46f3df",
   "metadata": {},
   "source": []
  },
  {
   "cell_type": "markdown",
   "id": "06005e7c",
   "metadata": {},
   "source": [
    "直線バージョン"
   ]
  },
  {
   "cell_type": "code",
   "execution_count": null,
   "id": "ac1541ba",
   "metadata": {},
   "outputs": [],
   "source": [
    "%run line_rgb.py"
   ]
  },
  {
   "cell_type": "code",
   "execution_count": null,
   "id": "2aa872e8",
   "metadata": {},
   "outputs": [],
   "source": [
    "%run curve_line.py"
   ]
  },
  {
   "cell_type": "code",
   "execution_count": null,
   "id": "14b51aad",
   "metadata": {},
   "outputs": [],
   "source": []
  }
 ],
 "metadata": {
  "kernelspec": {
   "display_name": "Python 3 (ipykernel)",
   "language": "python",
   "name": "python3"
  },
  "language_info": {
   "codemirror_mode": {
    "name": "ipython",
    "version": 3
   },
   "file_extension": ".py",
   "mimetype": "text/x-python",
   "name": "python",
   "nbconvert_exporter": "python",
   "pygments_lexer": "ipython3",
   "version": "3.9.12"
  }
 },
 "nbformat": 4,
 "nbformat_minor": 5
}
